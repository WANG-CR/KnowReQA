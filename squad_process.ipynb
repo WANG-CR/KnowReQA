{
 "cells": [
  {
   "cell_type": "code",
   "execution_count": null,
   "metadata": {},
   "outputs": [],
   "source": [
    "import re\n",
    "import json\n",
    "import random\n",
    "from utils_data import infer_sentence_breaks\n",
    "from transformers import BertTokenizer"
   ]
  },
  {
   "cell_type": "code",
   "execution_count": null,
   "metadata": {},
   "outputs": [],
   "source": [
    "with open('data/SQuAD/train.json') as data_file:\n",
    "    train_json = json.load(data_file)\n",
    "with open('data/SQuAD/dev.json') as data_file:\n",
    "    dev_json = json.load(data_file)"
   ]
  },
  {
   "cell_type": "code",
   "execution_count": null,
   "metadata": {},
   "outputs": [],
   "source": [
    "def generate_qa_pairs_train(data):\n",
    "    questions = []\n",
    "    answers = []\n",
    "    for passage in data[\"data\"]:\n",
    "        for paragraph in passage[\"paragraphs\"]:\n",
    "            paragraph_text = paragraph[\"context\"]\n",
    "            sentence_breaks = list(infer_sentence_breaks(paragraph_text))\n",
    "            for qas in paragraph[\"qas\"]:\n",
    "                question = qas[\"question\"]\n",
    "                answer_sentences = set()\n",
    "                for answer in qas[\"answers\"]:\n",
    "                    answer_start = answer[\"answer_start\"]\n",
    "                    # Map the answer fragment back to its enclosing sentence.\n",
    "                    sentence = None\n",
    "                    for start, end in sentence_breaks:\n",
    "                        if start <= answer_start < end:\n",
    "                            sentence = paragraph_text[start:end]\n",
    "                            break\n",
    "                    # Avoid generating duplicate answer sentences.\n",
    "                    if sentence not in answer_sentences:\n",
    "                        answer_sentences.add(str(sentence))\n",
    "                        questions.append(question)\n",
    "                        answers.append(sentence)\n",
    "    return questions, answers\n",
    "\n",
    "def generate_qa_pairs_test(data):\n",
    "    q2a_dict = dict()\n",
    "    candidates = []\n",
    "    for passage in data[\"data\"]:\n",
    "        for paragraph in passage[\"paragraphs\"]:\n",
    "            paragraph_text = paragraph[\"context\"]\n",
    "            sentence_breaks = list(infer_sentence_breaks(paragraph_text))\n",
    "            paragraph_sentences = [paragraph_text[start:end] for (start, end) in sentence_breaks]\n",
    "            candidates += paragraph_sentences\n",
    "            for qas in paragraph[\"qas\"]:\n",
    "                question = qas[\"question\"]\n",
    "                if question not in q2a_dict.keys():\n",
    "                    q2a_dict[question] = set()\n",
    "                for answer in qas[\"answers\"]:\n",
    "                    answer_start = answer[\"answer_start\"]\n",
    "                    # Map the answer fragment back to its enclosing sentence.\n",
    "                    sentence = None\n",
    "                    for start, end in sentence_breaks:\n",
    "                        if start <= answer_start < end:\n",
    "                            sentence = paragraph_text[start:end]\n",
    "                            break\n",
    "\n",
    "                    # Avoid generating duplicate answer sentences.\n",
    "                    if sentence not in q2a_dict[question]:\n",
    "                        q2a_dict[question].add(str(sentence))\n",
    "    questions = []\n",
    "    for q in q2a_dict.keys():\n",
    "        questions.append(q)\n",
    "    \n",
    "    # remove duplicate candidates\n",
    "    # candidates = list(set(candidates))\n",
    "    \n",
    "    ground_truth = []\n",
    "    for q in questions:\n",
    "        q_answers = q2a_dict[q]\n",
    "        answer_ids = []\n",
    "        for a in q_answers:\n",
    "            answer_ids.append(candidates.index(a))\n",
    "        ground_truth.append(answer_ids)\n",
    "    \n",
    "    return questions, candidates, ground_truth"
   ]
  },
  {
   "cell_type": "code",
   "execution_count": null,
   "metadata": {},
   "outputs": [],
   "source": [
    "ori_train_questions, ori_train_answers = generate_qa_pairs_train(train_json)"
   ]
  },
  {
   "cell_type": "code",
   "execution_count": null,
   "metadata": {},
   "outputs": [],
   "source": [
    "test_questions, test_candidates, test_ground_truth = generate_qa_pairs_test(dev_json)"
   ]
  },
  {
   "cell_type": "code",
   "execution_count": null,
   "metadata": {},
   "outputs": [],
   "source": [
    "print(len(test_questions), len(test_candidates))"
   ]
  },
  {
   "cell_type": "code",
   "execution_count": null,
   "metadata": {},
   "outputs": [],
   "source": [
    "print(len(ori_train_questions), len(ori_train_answers))"
   ]
  },
  {
   "cell_type": "code",
   "execution_count": null,
   "metadata": {},
   "outputs": [],
   "source": [
    "# with duplicate candidates\n",
    "print(len(test_questions), len(test_candidates))"
   ]
  },
  {
   "cell_type": "code",
   "execution_count": null,
   "metadata": {},
   "outputs": [],
   "source": [
    "# split original train dataset to new train dataset and nre dev dataset\n",
    "num_dev_samples = int(len(ori_train_questions) * 0.1)\n",
    "random.seed(12345)\n",
    "all_idx = [i for i in range(len(ori_train_questions))]\n",
    "dev_idx = random.sample(all_idx, num_dev_samples)"
   ]
  },
  {
   "cell_type": "code",
   "execution_count": null,
   "metadata": {},
   "outputs": [],
   "source": [
    "dev_questions = [ori_train_questions[i] for i in all_idx if i in dev_idx]\n",
    "dev_answers = [ori_train_answers[i] for i in all_idx if i in dev_idx]\n",
    "train_questions = [ori_train_questions[i] for i in all_idx if i not in dev_idx]\n",
    "train_answers = [ori_train_answers[i] for i in all_idx if i not in dev_idx]\n",
    "print(len(train_questions), len(dev_questions))"
   ]
  },
  {
   "cell_type": "code",
   "execution_count": null,
   "metadata": {},
   "outputs": [],
   "source": [
    "print(len(set(train_questions)), len(set(train_answers)))\n",
    "print(len(set(dev_questions)), len(set(dev_answers)))"
   ]
  },
  {
   "cell_type": "code",
   "execution_count": null,
   "metadata": {},
   "outputs": [],
   "source": [
    "saved_data = {\n",
    "    'train':{\n",
    "        'questions': train_questions,\n",
    "        'answers': train_answers,\n",
    "    },\n",
    "    'dev':{\n",
    "        'questions': dev_questions,\n",
    "        'answers': dev_answers,\n",
    "    },\n",
    "    'test':{\n",
    "        'questions': test_questions,\n",
    "        'candidates': test_candidates,\n",
    "        'ground_truth': test_ground_truth\n",
    "    }\n",
    "}\n",
    "with open('data/squad.json', 'w', encoding='utf-8') as f:\n",
    "    json.dump(saved_data, f)"
   ]
  },
  {
   "cell_type": "code",
   "execution_count": null,
   "metadata": {
    "collapsed": true
   },
   "outputs": [],
   "source": []
  },
  {
   "cell_type": "code",
   "execution_count": null,
   "metadata": {
    "collapsed": true
   },
   "outputs": [],
   "source": [
    "tokenizer = BertTokenizer.from_pretrained('bert-base-uncased')"
   ]
  },
  {
   "cell_type": "code",
   "execution_count": null,
   "metadata": {
    "collapsed": true
   },
   "outputs": [],
   "source": [
    "def tokenize(questions, answers):\n",
    "    question_insts = []\n",
    "    answer_insts = []\n",
    "    for q, a in zip(questions, answers):\n",
    "        question_insts.append(tokenizer.tokenize(q))\n",
    "        answer_insts.append(tokenizer.tokenize(a))\n",
    "    return question_insts, answer_insts"
   ]
  },
  {
   "cell_type": "code",
   "execution_count": null,
   "metadata": {
    "collapsed": true
   },
   "outputs": [],
   "source": [
    "train_question_insts, train_answer_insts = tokenize(train_questions, train_answers)"
   ]
  },
  {
   "cell_type": "code",
   "execution_count": null,
   "metadata": {},
   "outputs": [],
   "source": [
    "train_question_insts, train_answer_insts = tokenize(ori_train_questions, ori_train_answers)"
   ]
  },
  {
   "cell_type": "code",
   "execution_count": null,
   "metadata": {
    "collapsed": true
   },
   "outputs": [],
   "source": [
    "dev_question_insts, dev_answer_insts = tokenize(dev_questions, dev_answers)\n",
    "test_question_insts, test_answer_insts = tokenize(test_questions, test_answers)"
   ]
  },
  {
   "cell_type": "code",
   "execution_count": null,
   "metadata": {
    "collapsed": true
   },
   "outputs": [],
   "source": [
    "def calculate_average_token_number(list):\n",
    "    total_token_number = 0\n",
    "    for s in list:\n",
    "        total_token_number += len(s)\n",
    "    average_token_number =  total_token_number/len(list)\n",
    "    print(average_token_number) \n",
    "    return average_token_number  \n",
    "\n"
   ]
  },
  {
   "cell_type": "code",
   "execution_count": null,
   "metadata": {},
   "outputs": [],
   "source": [
    "a = calculate_average_token_number(train_question_insts)\n",
    "b = calculate_average_token_number(train_answer_insts) "
   ]
  },
  {
   "cell_type": "code",
   "execution_count": null,
   "metadata": {
    "collapsed": true
   },
   "outputs": [],
   "source": [
    "import seaborn as sns\n",
    "%matplotlib inline\n",
    "def plot_dist(len_list):\n",
    "    return sns.displot(len_list)\n",
    "# ax.savefig('response_length.png', dpi=200)"
   ]
  },
  {
   "cell_type": "code",
   "execution_count": null,
   "metadata": {},
   "outputs": [],
   "source": [
    "ax = plot_dist([len(s) for s in train_question_insts])"
   ]
  }
 ],
 "metadata": {
  "kernelspec": {
   "display_name": "Python 3",
   "language": "python",
   "name": "python3"
  },
  "language_info": {
   "codemirror_mode": {
    "name": "ipython",
    "version": 3
   },
   "file_extension": ".py",
   "mimetype": "text/x-python",
   "name": "python",
   "nbconvert_exporter": "python",
   "pygments_lexer": "ipython3",
   "version": "3.8.12"
  }
 },
 "nbformat": 4,
 "nbformat_minor": 2
}
